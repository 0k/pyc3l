{
 "cells": [
  {
   "cell_type": "code",
   "execution_count": 246,
   "metadata": {},
   "outputs": [],
   "source": [
    "from web3 import Web3\n",
    "from web3.eth import Eth\n",
    "from eth_account import Account\n",
    "from Crypto import Random\n",
    "from Crypto.Cipher import AES\n",
    "from Crypto.PublicKey import ECC\n",
    "from Crypto.Hash import SHA256, SHA512\n",
    "import struct\n",
    "import base64\n",
    "import hmac\n",
    "import hashlib\n"
   ]
  },
  {
   "cell_type": "code",
   "execution_count": 202,
   "metadata": {},
   "outputs": [],
   "source": [
    "BS = 16\n",
    "def pad(data):\n",
    "    padding = BS - len(data) % BS\n",
    "    return data + padding * struct.pack(\"B\", padding)\n",
    "\n",
    "def unpad(data):\n",
    "    return data[0:-data[-1]]\n",
    "\n",
    "def AES256CbcDecrypt(hex_data, key=b'0'*32, iv=b'0'*16):\n",
    "    data = bytearray.fromhex(hex_data)\n",
    "    aes = AES.new(key, AES.MODE_CBC, iv)\n",
    "    return unpad(aes.decrypt(data))\n",
    "\n",
    "def AES256CbcEncrypt(bin_data, key=b'0'*32, iv=b'0'*16):\n",
    "    aes = AES.new(key, AES.MODE_CBC, iv)\n",
    "    return aes.encrypt(pad(bin_data))"
   ]
  },
  {
   "cell_type": "code",
   "execution_count": 203,
   "metadata": {},
   "outputs": [
    {
     "name": "stdout",
     "output_type": "stream",
     "text": [
      "16\n",
      "bytearray(b'test')\n",
      "True\n"
     ]
    }
   ],
   "source": [
    "#Test pading /unpading\n",
    "start = bytearray(b'test')\n",
    "padded = pad(start)\n",
    "print(len(padded))\n",
    "unpaded = unpad(padded)\n",
    "print (unpaded)\n",
    "print (unpaded==start)"
   ]
  },
  {
   "cell_type": "code",
   "execution_count": 204,
   "metadata": {},
   "outputs": [
    {
     "name": "stdout",
     "output_type": "stream",
     "text": [
      "e4bec3c272130e40fa34f068819d8e83\n",
      "True\n",
      "test\n",
      "True\n"
     ]
    }
   ],
   "source": [
    "#Test encrypt\n",
    "hex_key = '1ac27dc3580fa322d795d54fe4b4b211980a299f924f1df267195c4f8253b700'\n",
    "key = bytearray.fromhex(hex_key)\n",
    "text ='test'\n",
    "plaintext = text.encode(encoding='utf_8') \n",
    "hex_iv='95eb6bfc4ddcd00ba1b2d63b7c26bff4'\n",
    "iv= bytearray.fromhex(hex_iv)\n",
    "\n",
    "cry = AES256CbcEncrypt(plaintext,key,iv).hex()\n",
    "print(cry)\n",
    "print(cry=='e4bec3c272130e40fa34f068819d8e83')\n",
    "\n",
    "#test decrypt\n",
    "dec = AES256CbcDecrypt(cry,key,iv)\n",
    "print(dec.decode(\"utf-8\"))\n",
    "print(dec.decode(\"utf-8\")==text)"
   ]
  },
  {
   "cell_type": "code",
   "execution_count": 93,
   "metadata": {},
   "outputs": [],
   "source": [
    "def encode_key(pub_key):\n",
    "    return pub_key.pointQ.x.to_bytes(32)+ pub_key.pointQ.y.to_bytes(32)"
   ]
  },
  {
   "cell_type": "code",
   "execution_count": 94,
   "metadata": {},
   "outputs": [
    {
     "data": {
      "text/plain": [
       "True"
      ]
     },
     "execution_count": 94,
     "metadata": {},
     "output_type": "execute_result"
    }
   ],
   "source": [
    "test_encoded = (74112620180903413835928205978618879887273296202846370176989995621597768248548).to_bytes(32,byteorder='big')+(70352546531620714376440768798610125065500941604960487601320179994127409968403).to_bytes(32,byteorder='big')\n",
    "[ test_encoded[i] for i in range(len(test_encoded)) ] == [163, 218, 65, 170, 47, 136, 127, 159, 98, 77, 71, 242, 112, 244, 229, 36, 177, 2, 147, 111, 8, 233, 154, 255, 238, 244, 221, 88, 15, 2, 236, 228, 155, 138, 33, 87, 29, 185, 26, 29, 154, 176, 239, 200, 165, 137, 137, 181, 96, 137, 184, 159, 197, 133, 182, 251, 181, 179, 184, 113, 179, 141, 117, 19]"
   ]
  },
  {
   "cell_type": "code",
   "execution_count": 162,
   "metadata": {},
   "outputs": [],
   "source": [
    "def derive(private_key, pub_ecc_point):\n",
    "    return (pub_ecc_point*private_key.d).x"
   ]
  },
  {
   "cell_type": "code",
   "execution_count": 108,
   "metadata": {},
   "outputs": [],
   "source": [
    "# not used\n",
    "def concatenate0x04(data):\n",
    "    return (0x04).to_bytes(1,byteorder='big')+data"
   ]
  },
  {
   "cell_type": "code",
   "execution_count": 113,
   "metadata": {},
   "outputs": [
    {
     "name": "stdout",
     "output_type": "stream",
     "text": [
      "True\n"
     ]
    }
   ],
   "source": [
    "hex_key = '1ac27dc3580fa322d795d54fe4b4b211980a299f924f1df267195c4f8253b700'\n",
    "key = bytearray.fromhex(hex_key)\n",
    "conc = concatenate0x04(key)\n",
    "print(conc[0]==4 and conc[1]==key[0])"
   ]
  },
  {
   "cell_type": "code",
   "execution_count": 279,
   "metadata": {},
   "outputs": [
    {
     "name": "stdout",
     "output_type": "stream",
     "text": [
      "True\n"
     ]
    }
   ],
   "source": [
    "mac = hmac.new(b'key',b'test', hashlib.sha256).digest()\n",
    "print([ mac[i] for i in range(len(mac)) ] == [2, 175, 181, 99, 4, 144, 44, 101, 111, 203, 115, 124, 221, 3, 222, 98, 5, 187, 109, 64, 29, 162, 129, 46, 253, 155, 45, 54, 160, 138, 241, 89])"
   ]
  },
  {
   "cell_type": "code",
   "execution_count": 280,
   "metadata": {},
   "outputs": [
    {
     "data": {
      "text/plain": [
       "True"
      ]
     },
     "execution_count": 280,
     "metadata": {},
     "output_type": "execute_result"
    }
   ],
   "source": [
    "mackey = bytearray([79, 239, 151, 70, 153, 199, 149, 191, 63, 138, 31, 222, 246, 48, 101, 30, 50, 242, 204, 220, 2, 110, 67, 183, 43, 138, 60, 2, 197, 100, 91, 198])\n",
    "dataToMac=bytearray([149, 235, 107, 252, 77, 220, 208, 11, 161, 178, 214, 59, 124, 38, 191, 244, 4, 75, 110, 138, 127, 216, 95, 226, 105, 190, 209, 196, 201, 218, 135, 24, 64, 123, 111, 244, 29, 172, 190, 228, 139, 187, 179, 195, 2, 222, 119, 128, 51, 141, 128, 187, 166, 9, 238, 207, 172, 236, 18, 138, 135, 185, 9, 245, 30, 102, 165, 121, 224, 29, 40, 205, 213, 202, 79, 101, 78, 96, 28, 198, 185, 228, 190, 195, 194, 114, 19, 14, 64, 250, 52, 240, 104, 129, 157, 142, 131])\n",
    "mac = hmac.new(mackey,dataToMac, hashlib.sha256).digest()\n",
    "[ mac[i] for i in range(len(mac)) ] ==  [14, 120, 220, 2, 214, 66, 118, 74, 3, 156, 174, 142, 155, 38, 96, 183, 178, 132, 74, 102, 3, 195, 47, 32, 45, 59, 109, 239, 77, 155, 27, 130]"
   ]
  },
  {
   "cell_type": "markdown",
   "metadata": {},
   "source": [
    "---------------------------------"
   ]
  },
  {
   "cell_type": "code",
   "execution_count": 281,
   "metadata": {},
   "outputs": [],
   "source": [
    "def EncryptMessage(publicKey_hex, plainText_string):\n",
    "    ephemPrivKey = ECC.generate(curve='secp256r1')\n",
    "    ephemPubKey = ephemPrivKey.public_key()\n",
    "    ephemPubKeyEncoded = encode_key(ephemPubKey)\n",
    "    \n",
    "    publicKey = bytearray.fromhex(publicKey_hex)\n",
    "    pub = ECC.EccPoint(int.from_bytes(publicKey[:int(len(publicKey)/2)],byteorder='big'), int.from_bytes(publicKey[int(len(publicKey)/2):],byteorder='big'))\n",
    "    px = derive(ephemPrivKey,pub) \n",
    "    hash_px = SHA512.new(data=px.to_bytes()).digest()\n",
    "    encryptionKey = hash_px[:32]\n",
    "    macKey = hash_px[32:]\n",
    "    iv = Random.get_random_bytes(16)\n",
    "    \n",
    "    plaintext = plainText_string.encode(encoding='utf_8') \n",
    "    ciphertext = AES256CbcEncrypt(plaintext,encryptionKey,iv)\n",
    "    dataToMac = iv + ephemPubKeyEncoded + ciphertext\n",
    "    mac = hmac.new(macKey, dataToMac, 'sha256').digest()\n",
    "    serializedCiphertext = iv + ephemPubKeyEncoded + mac + ciphertext\n",
    "    return serializedCiphertext.hex()\n",
    "    "
   ]
  },
  {
   "cell_type": "code",
   "execution_count": 282,
   "metadata": {},
   "outputs": [
    {
     "data": {
      "text/plain": [
       "'a7e9ae5ee9af9c860c1e4465c5f1e3445cef853e6c1c4d7d6fc691f50a350e467ca64450741ee19867bc036b1c01e1bdcbbab0d4af2a7d56f49b1ae286b018286fff36f884f0a8efc6cd1027ede9e6ddd0dba4775a148a7849e8bb0cde1386462f9530bfc1bfec338b2d3e31351fa0c4daab853afc8692465edbdca210299e29'"
      ]
     },
     "execution_count": 282,
     "metadata": {},
     "output_type": "execute_result"
    }
   ],
   "source": [
    "pub_key = '1a9894ac0dbbc75ee2cb41982a0de17b238559e13960fde765d8c68821a10522c5a2961cec479b29417eef79df3a5b31b4d5dfc62daa7bca8bb642a7b62f22b0'\n",
    "message = 'test'\n",
    "EncryptMessage(pub_key, message)"
   ]
  },
  {
   "cell_type": "markdown",
   "metadata": {},
   "source": [
    "------------------------------"
   ]
  },
  {
   "cell_type": "code",
   "execution_count": 78,
   "metadata": {},
   "outputs": [],
   "source": [
    "ephemPrivKey = ECC.generate(curve='secp256r1')"
   ]
  },
  {
   "cell_type": "code",
   "execution_count": 80,
   "metadata": {},
   "outputs": [],
   "source": [
    "ephemPubKey = ephemPrivKey.public_key()"
   ]
  },
  {
   "cell_type": "code",
   "execution_count": 95,
   "metadata": {},
   "outputs": [],
   "source": [
    "ephemPubKeyEncoded = encode_key(ephemPubKey)"
   ]
  },
  {
   "cell_type": "markdown",
   "metadata": {},
   "source": [
    "-----------------------------------------------"
   ]
  },
  {
   "cell_type": "code",
   "execution_count": 136,
   "metadata": {},
   "outputs": [],
   "source": [
    "publicKey = bytearray.fromhex('1a9894ac0dbbc75ee2cb41982a0de17b238559e13960fde765d8c68821a10522c5a2961cec479b29417eef79df3a5b31b4d5dfc62daa7bca8bb642a7b62f22b0')"
   ]
  },
  {
   "cell_type": "code",
   "execution_count": 155,
   "metadata": {},
   "outputs": [],
   "source": [
    "pub = ECC.EccPoint(int.from_bytes(publicKey[:int(len(publicKey)/2)],byteorder='big'), int.from_bytes(publicKey[int(len(publicKey)/2):],byteorder='big'))"
   ]
  },
  {
   "cell_type": "code",
   "execution_count": 163,
   "metadata": {},
   "outputs": [],
   "source": [
    "px = derive(ephemPrivKey,pub) "
   ]
  },
  {
   "cell_type": "code",
   "execution_count": 194,
   "metadata": {},
   "outputs": [],
   "source": [
    "hash_px = SHA512.new(data=px.to_bytes()).digest()"
   ]
  },
  {
   "cell_type": "code",
   "execution_count": 199,
   "metadata": {},
   "outputs": [],
   "source": [
    "encryptionKey = hash_px[:32]\n",
    "macKey = hash_px[32:]\n"
   ]
  },
  {
   "cell_type": "markdown",
   "metadata": {},
   "source": [
    "--------------------------------------------"
   ]
  },
  {
   "cell_type": "code",
   "execution_count": 195,
   "metadata": {},
   "outputs": [],
   "source": [
    "iv = Random.get_random_bytes(16)"
   ]
  },
  {
   "cell_type": "code",
   "execution_count": 200,
   "metadata": {},
   "outputs": [],
   "source": [
    "plaintext=b'This is my text'"
   ]
  },
  {
   "cell_type": "code",
   "execution_count": 205,
   "metadata": {},
   "outputs": [],
   "source": [
    "ciphertext = AES256CbcEncrypt(plaintext,encryptionKey,iv)"
   ]
  },
  {
   "cell_type": "code",
   "execution_count": 207,
   "metadata": {},
   "outputs": [],
   "source": [
    "dataToMac = iv + ephemPubKeyEncoded + ciphertext"
   ]
  },
  {
   "cell_type": "markdown",
   "metadata": {},
   "source": [
    "---------------------------------"
   ]
  },
  {
   "cell_type": "code",
   "execution_count": 214,
   "metadata": {},
   "outputs": [],
   "source": [
    "mac = hmac.new(macKey,dataToMac,'sha256').digest()"
   ]
  },
  {
   "cell_type": "code",
   "execution_count": 215,
   "metadata": {},
   "outputs": [],
   "source": [
    "serializedCiphertext = iv + ephemPubKeyEncoded + mac + ciphertext"
   ]
  },
  {
   "cell_type": "code",
   "execution_count": 217,
   "metadata": {},
   "outputs": [
    {
     "data": {
      "text/plain": [
       "'95eb6bfc4ddcd00ba1b2d63b7c26bff40b76ec0bd7a18a2c3d4ee88c84f3bea94541ece77025dafe825f2fa599220f96ea9c5bb9652b7eda838673575c98fcbb209867f69784f50827bdaf55074f37ccd639583522083cc784a2b41f45ab9798f297fe864076265a2fc6872989de2b3b0ba257fa1c2ae7ff357316bf187edbe9'"
      ]
     },
     "execution_count": 217,
     "metadata": {},
     "output_type": "execute_result"
    }
   ],
   "source": [
    "serializedCiphertext.hex()"
   ]
  }
 ],
 "metadata": {
  "kernelspec": {
   "display_name": "Python 3",
   "language": "python",
   "name": "python3"
  },
  "language_info": {
   "codemirror_mode": {
    "name": "ipython",
    "version": 3
   },
   "file_extension": ".py",
   "mimetype": "text/x-python",
   "name": "python",
   "nbconvert_exporter": "python",
   "pygments_lexer": "ipython3",
   "version": "3.6.8"
  }
 },
 "nbformat": 4,
 "nbformat_minor": 2
}
