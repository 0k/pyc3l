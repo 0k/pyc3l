{
 "cells": [
  {
   "cell_type": "code",
   "execution_count": 1,
   "metadata": {},
   "outputs": [],
   "source": [
    "from web3 import Web3\n",
    "from web3.eth import Eth\n",
    "from eth_account import Account\n",
    "from Crypto import Random\n",
    "from Crypto.Cipher import AES\n",
    "from Crypto.PublicKey import ECC\n",
    "from Crypto.Hash import SHA256, SHA512\n",
    "import struct\n",
    "import base64\n",
    "import hmac\n",
    "import hashlib\n"
   ]
  },
  {
   "cell_type": "code",
   "execution_count": 2,
   "metadata": {},
   "outputs": [],
   "source": [
    "BS = 16\n",
    "def pad(data):\n",
    "    padding = BS - len(data) % BS\n",
    "    return data + padding * struct.pack(\"B\", padding)\n",
    "\n",
    "def unpad(data):\n",
    "    return data[0:-data[-1]]\n",
    "\n",
    "def AES256CbcDecrypt(hex_data, key=b'0'*32, iv=b'0'*16):\n",
    "    data = bytearray.fromhex(hex_data)\n",
    "    aes = AES.new(key, AES.MODE_CBC, iv)\n",
    "    return unpad(aes.decrypt(data))\n",
    "\n",
    "def AES256CbcEncrypt(bin_data, key=b'0'*32, iv=b'0'*16):\n",
    "    aes = AES.new(key, AES.MODE_CBC, iv)\n",
    "    return aes.encrypt(pad(bin_data))"
   ]
  },
  {
   "cell_type": "code",
   "execution_count": 3,
   "metadata": {},
   "outputs": [
    {
     "name": "stdout",
     "output_type": "stream",
     "text": [
      "16\n",
      "bytearray(b'test')\n",
      "True\n"
     ]
    }
   ],
   "source": [
    "#Test pading /unpading\n",
    "start = bytearray(b'test')\n",
    "padded = pad(start)\n",
    "print(len(padded))\n",
    "unpaded = unpad(padded)\n",
    "print (unpaded)\n",
    "print (unpaded==start)"
   ]
  },
  {
   "cell_type": "code",
   "execution_count": 4,
   "metadata": {},
   "outputs": [
    {
     "name": "stdout",
     "output_type": "stream",
     "text": [
      "e4bec3c272130e40fa34f068819d8e83\n",
      "True\n",
      "test\n",
      "True\n"
     ]
    }
   ],
   "source": [
    "#Test encrypt\n",
    "hex_key = '1ac27dc3580fa322d795d54fe4b4b211980a299f924f1df267195c4f8253b700'\n",
    "key = bytearray.fromhex(hex_key)\n",
    "text ='test'\n",
    "plaintext = text.encode(encoding='utf_8') \n",
    "hex_iv='95eb6bfc4ddcd00ba1b2d63b7c26bff4'\n",
    "iv= bytearray.fromhex(hex_iv)\n",
    "\n",
    "cry = AES256CbcEncrypt(plaintext,key,iv).hex()\n",
    "print(cry)\n",
    "print(cry=='e4bec3c272130e40fa34f068819d8e83')\n",
    "\n",
    "#test decrypt\n",
    "dec = AES256CbcDecrypt(cry,key,iv)\n",
    "print(dec.decode(\"utf-8\"))\n",
    "print(dec.decode(\"utf-8\")==text)"
   ]
  },
  {
   "cell_type": "code",
   "execution_count": 5,
   "metadata": {},
   "outputs": [],
   "source": [
    "def encode_key(pub_key):\n",
    "    return pub_key.pointQ.x.to_bytes(32)+ pub_key.pointQ.y.to_bytes(32)"
   ]
  },
  {
   "cell_type": "code",
   "execution_count": 6,
   "metadata": {},
   "outputs": [
    {
     "data": {
      "text/plain": [
       "True"
      ]
     },
     "execution_count": 6,
     "metadata": {},
     "output_type": "execute_result"
    }
   ],
   "source": [
    "test_encoded = (74112620180903413835928205978618879887273296202846370176989995621597768248548).to_bytes(32,byteorder='big')+(70352546531620714376440768798610125065500941604960487601320179994127409968403).to_bytes(32,byteorder='big')\n",
    "[ test_encoded[i] for i in range(len(test_encoded)) ] == [163, 218, 65, 170, 47, 136, 127, 159, 98, 77, 71, 242, 112, 244, 229, 36, 177, 2, 147, 111, 8, 233, 154, 255, 238, 244, 221, 88, 15, 2, 236, 228, 155, 138, 33, 87, 29, 185, 26, 29, 154, 176, 239, 200, 165, 137, 137, 181, 96, 137, 184, 159, 197, 133, 182, 251, 181, 179, 184, 113, 179, 141, 117, 19]"
   ]
  },
  {
   "cell_type": "code",
   "execution_count": 7,
   "metadata": {},
   "outputs": [],
   "source": [
    "def decode_key(encoded_pub_key):\n",
    "    x = encoded_pub_key[:32]\n",
    "    y = encoded_pub_key[32:]\n",
    "    return ECC.EccPoint(int.from_bytes(x,byteorder='big'), int.from_bytes(y,byteorder='big'))"
   ]
  },
  {
   "cell_type": "code",
   "execution_count": 8,
   "metadata": {},
   "outputs": [
    {
     "data": {
      "text/plain": [
       "<Crypto.PublicKey.ECC.EccPoint at 0x7f9c8af562e8>"
      ]
     },
     "execution_count": 8,
     "metadata": {},
     "output_type": "execute_result"
    }
   ],
   "source": [
    "ephemPrivKey = ECC.generate(curve='secp256r1')\n",
    "encoded = encode_key(ephemPrivKey.public_key())\n",
    "decode_key(encoded)"
   ]
  },
  {
   "cell_type": "code",
   "execution_count": 9,
   "metadata": {},
   "outputs": [],
   "source": [
    "def derive(private_key, pub_ecc_point):\n",
    "    return (pub_ecc_point*private_key.d).x"
   ]
  },
  {
   "cell_type": "code",
   "execution_count": 11,
   "metadata": {},
   "outputs": [
    {
     "name": "stdout",
     "output_type": "stream",
     "text": [
      "True\n"
     ]
    }
   ],
   "source": [
    "mac = hmac.new(b'key',b'test', hashlib.sha256).digest()\n",
    "print([ mac[i] for i in range(len(mac)) ] == [2, 175, 181, 99, 4, 144, 44, 101, 111, 203, 115, 124, 221, 3, 222, 98, 5, 187, 109, 64, 29, 162, 129, 46, 253, 155, 45, 54, 160, 138, 241, 89])"
   ]
  },
  {
   "cell_type": "code",
   "execution_count": 12,
   "metadata": {},
   "outputs": [
    {
     "data": {
      "text/plain": [
       "True"
      ]
     },
     "execution_count": 12,
     "metadata": {},
     "output_type": "execute_result"
    }
   ],
   "source": [
    "mackey = bytearray([79, 239, 151, 70, 153, 199, 149, 191, 63, 138, 31, 222, 246, 48, 101, 30, 50, 242, 204, 220, 2, 110, 67, 183, 43, 138, 60, 2, 197, 100, 91, 198])\n",
    "dataToMac=bytearray([149, 235, 107, 252, 77, 220, 208, 11, 161, 178, 214, 59, 124, 38, 191, 244, 4, 75, 110, 138, 127, 216, 95, 226, 105, 190, 209, 196, 201, 218, 135, 24, 64, 123, 111, 244, 29, 172, 190, 228, 139, 187, 179, 195, 2, 222, 119, 128, 51, 141, 128, 187, 166, 9, 238, 207, 172, 236, 18, 138, 135, 185, 9, 245, 30, 102, 165, 121, 224, 29, 40, 205, 213, 202, 79, 101, 78, 96, 28, 198, 185, 228, 190, 195, 194, 114, 19, 14, 64, 250, 52, 240, 104, 129, 157, 142, 131])\n",
    "mac = hmac.new(mackey,dataToMac, hashlib.sha256).digest()\n",
    "[ mac[i] for i in range(len(mac)) ] ==  [14, 120, 220, 2, 214, 66, 118, 74, 3, 156, 174, 142, 155, 38, 96, 183, 178, 132, 74, 102, 3, 195, 47, 32, 45, 59, 109, 239, 77, 155, 27, 130]"
   ]
  },
  {
   "cell_type": "markdown",
   "metadata": {},
   "source": [
    "---------------------------------"
   ]
  },
  {
   "cell_type": "code",
   "execution_count": 63,
   "metadata": {},
   "outputs": [
    {
     "name": "stdout",
     "output_type": "stream",
     "text": [
      "0x4468a5720b9424da6173c821f29e7645e550c01e1aa3c1a8bbe700ef7829f0d\n",
      "0xfa6e5e5e6b2fde22decb9905a65186a63e95151ccfc78894f9a91279312bf1ac2e6352727c6c81ae85b93c46206a0cea41d1f7f21050488528672eb858ae1b12\n"
     ]
    }
   ],
   "source": [
    "test_key_priv = ECC.generate(curve='secp256r1')\n",
    "test_key_pub = test_key_priv.public_key()\n",
    "\n",
    "test_key_priv_hex = hex(int(test_key_priv.d))\n",
    "test_key_pub_hex = hex(int(test_key_pub.pointQ.x)) + hex(int(test_key_pub.pointQ.y))[2:]\n",
    "\n",
    "print(test_key_priv_hex)\n",
    "print(test_key_pub_hex)"
   ]
  },
  {
   "cell_type": "code",
   "execution_count": 64,
   "metadata": {},
   "outputs": [],
   "source": [
    "def EncryptMessage(publicKey_hex, plainText_string):\n",
    "    if publicKey_hex[:2]=='0x':\n",
    "        publicKey_hex=publicKey_hex[2:]\n",
    "    \n",
    "    # Generate the temporary key \n",
    "    ephemPrivKey = ECC.generate(curve='secp256r1')\n",
    "    ephemPubKey = ephemPrivKey.public_key()\n",
    "    ephemPubKeyEncoded = encode_key(ephemPubKey)\n",
    "    \n",
    "    # Load the public key\n",
    "    publicKey = bytearray.fromhex(publicKey_hex)\n",
    "    pub = ECC.EccPoint(int.from_bytes(publicKey[:int(len(publicKey)/2)],byteorder='big'), int.from_bytes(publicKey[int(len(publicKey)/2):],byteorder='big'))\n",
    "    \n",
    "    # ECDH => get the shared secret\n",
    "    px = derive(ephemPrivKey,pub) \n",
    "    \n",
    "    # compute the encription and MAC keys\n",
    "    hash_px = SHA512.new(data=px.to_bytes()).digest()\n",
    "    encryptionKey = hash_px[:32]\n",
    "    macKey = hash_px[32:]\n",
    "    \n",
    "    # cipher the plain text\n",
    "    iv = Random.get_random_bytes(16)\n",
    "    plaintext = plainText_string.encode(encoding='utf_8') \n",
    "    ciphertext = AES256CbcEncrypt(plaintext,encryptionKey,iv)\n",
    "    \n",
    "    # compute the MAC\n",
    "    dataToMac = iv + ephemPubKeyEncoded + ciphertext\n",
    "    mac = hmac.new(macKey, dataToMac, 'sha256').digest()\n",
    "    \n",
    "    #build the output\n",
    "    serializedCiphertext = iv + ephemPubKeyEncoded + mac + ciphertext\n",
    "    return serializedCiphertext.hex()\n",
    "    "
   ]
  },
  {
   "cell_type": "code",
   "execution_count": 65,
   "metadata": {},
   "outputs": [
    {
     "name": "stdout",
     "output_type": "stream",
     "text": [
      "43594997613cd5d96f728c43ac289e4f920173475037c93d8d370b74912d221443dc5899fd5af90d4dc245a8b7fd8ffe86b67f8f1c502b1ac400bd73905d8e7494b74042fdadc0dfda16c34fab14887ed604f40fe80903ed2a0667f1388e9f96e08fbbb8a2ded25feb1cc3ff5b89e527b00081421cc32a015f8eaab86b2f2193\n"
     ]
    }
   ],
   "source": [
    "message = 'test'\n",
    "encrypted = EncryptMessage(test_key_pub_hex, message)\n",
    "print(encrypted)"
   ]
  },
  {
   "cell_type": "code",
   "execution_count": 66,
   "metadata": {},
   "outputs": [],
   "source": [
    "def DecryptMessage(privateKey_hey, encrypted_hex):\n",
    "    if privateKey_hey[:2]=='0x':\n",
    "        privateKey_hey=privateKey_hey[2:]\n",
    "    if encrypted_hex[:2]=='0x':\n",
    "        encrypted_hex=encrypted_hex[2:]\n",
    "\n",
    "    # get the components \n",
    "    encrypted = bytearray.fromhex(encrypted_hex)\n",
    "    iv = encrypted[:16]\n",
    "    ephemPubKeyEncoded = encrypted[16:80]\n",
    "    mac = encrypted[80:112]\n",
    "    ciphertext = encrypted[112:]\n",
    "    \n",
    "    # recover the temporary public key\n",
    "    ephemPubKey = decode_key(ephemPubKeyEncoded)\n",
    "    \n",
    "    # load the private key\n",
    "    privKey = ECC.construct(curve='secp256r1', d=int(privateKey_hey,16))\n",
    "    \n",
    "    # ECDH => get the shared secret\n",
    "    px = derive(privKey, ephemPubKey)\n",
    "    \n",
    "    # compute the encription and MAC keys\n",
    "    hash_px = SHA512.new(data=px.to_bytes()).digest()\n",
    "    encryptionKey = hash_px[:32]\n",
    "    macKey = hash_px[32:]\n",
    "    \n",
    "    # check the MAC\n",
    "    dataToMac = iv + ephemPubKeyEncoded + ciphertext\n",
    "    computed_mac = hmac.new(macKey, dataToMac, 'sha256').digest()\n",
    "    if computed_mac!=mac:\n",
    "        raise ValueError(\"MAC missmatch\")\n",
    "        \n",
    "    #decipher the text\n",
    "    plaintext = AES256CbcDecrypt(ciphertext.hex(), encryptionKey, iv)\n",
    "    return plaintext.decode(\"utf-8\")\n",
    "    "
   ]
  },
  {
   "cell_type": "code",
   "execution_count": 68,
   "metadata": {},
   "outputs": [
    {
     "name": "stdout",
     "output_type": "stream",
     "text": [
      "test\n"
     ]
    }
   ],
   "source": [
    "message = 'test'\n",
    "encrypted = EncryptMessage(test_key_pub_hex, message)\n",
    "\n",
    "\n",
    "mm = DecryptMessage(test_key_priv_hex, encrypted)\n",
    "print(mm)"
   ]
  },
  {
   "cell_type": "code",
   "execution_count": null,
   "metadata": {},
   "outputs": [],
   "source": []
  }
 ],
 "metadata": {
  "kernelspec": {
   "display_name": "Python 3",
   "language": "python",
   "name": "python3"
  },
  "language_info": {
   "codemirror_mode": {
    "name": "ipython",
    "version": 3
   },
   "file_extension": ".py",
   "mimetype": "text/x-python",
   "name": "python",
   "nbconvert_exporter": "python",
   "pygments_lexer": "ipython3",
   "version": "3.6.8"
  }
 },
 "nbformat": 4,
 "nbformat_minor": 2
}
